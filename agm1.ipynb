{
 "cells": [
  {
   "cell_type": "markdown",
   "id": "86e9baea",
   "metadata": {},
   "source": [
    "1. In the below elements which of them are values or an expression? eg:- values can be\n",
    "integer or string and expressions will be mathematical operators.\n",
    "* - expression\n",
    "'hello' - value\n",
    "-87.8 - value\n",
    "- expression\n",
    "/ expression\n",
    "+ expression"
   ]
  },
  {
   "cell_type": "markdown",
   "id": "156dd3a9",
   "metadata": {},
   "source": [
    "2.What is the difference between string and variable?\n",
    "String is a set of characters, which is a value. Whereas variable is an entity which will store the value.\n",
    "ex: a='10', here '10' is a string and a is a variable"
   ]
  },
  {
   "cell_type": "markdown",
   "id": "51869775",
   "metadata": {},
   "source": [
    "3. Describe three different data types.\n",
    "1.integer(int)\n",
    "these are the integer values without any decimal point\n",
    "ex: 12562\n",
    "    \n",
    "2. string (str)\n",
    "set of characters enclosed in single or double quotes\n",
    "ex : \"dgeuyed\"\n",
    "    \n",
    "3. list \n",
    "set of multiple / homogenous data type values\n",
    "ex : [2, \"hg\",56]\n",
    "    "
   ]
  },
  {
   "cell_type": "markdown",
   "id": "016ada83",
   "metadata": {},
   "source": [
    "4. What is an expression made up of? What do all expressions do?\n",
    "An expression is a combination of  operator and  operand.\n",
    "Expressions evalute the result and outputs the result."
   ]
  },
  {
   "cell_type": "markdown",
   "id": "6747b64d",
   "metadata": {},
   "source": [
    "5. This assignment statements, like spam = 10. What is the difference between an\n",
    "expression and a statement?\n",
    "Assignment statement is used to assign the value to other variable using =, whereas expressions does not contain the =operator,\n",
    "and it consists of one or more operator and operands."
   ]
  },
  {
   "cell_type": "markdown",
   "id": "b904f5fb",
   "metadata": {},
   "source": [
    "6. After running the following code, what does the variable bacon contain?\n",
    "bacon = 22\n",
    "bacon + 1\n",
    "result : 22"
   ]
  },
  {
   "cell_type": "markdown",
   "id": "5afd0d26",
   "metadata": {},
   "source": [
    "7. What should the values of the following two terms be?\n",
    "'spam' + 'spamspam'\n",
    "'spam' * 3\n",
    "\n",
    " 'spamspamspam'\n",
    " 'spamspamspam'\n",
    "\n"
   ]
  },
  {
   "cell_type": "markdown",
   "id": "9405b169",
   "metadata": {},
   "source": [
    "8. Why is eggs a valid variable name while 100 is invalid?\n",
    "Because as per the variable naming convension , a variable name can't start with a digit. "
   ]
  },
  {
   "cell_type": "markdown",
   "id": "9e2b5e3d",
   "metadata": {},
   "source": [
    "9. What three functions can be used to get the integer, floating-point number, or string\n",
    "version of a value?\n",
    "int(), float(), str()\n"
   ]
  },
  {
   "cell_type": "markdown",
   "id": "7377f96c",
   "metadata": {},
   "source": [
    "10. Why does this expression cause an error? How can you fix it?\n",
    "'I have eaten'  + 99 + 'burritos.'\n",
    "\n",
    "bcz it's trying to concatenate string with integer value. To fix it, all the non string values must be converted into string by either enclosing them in ''/\"\" or using str() function."
   ]
  }
 ],
 "metadata": {
  "kernelspec": {
   "display_name": "Python 3 (ipykernel)",
   "language": "python",
   "name": "python3"
  },
  "language_info": {
   "codemirror_mode": {
    "name": "ipython",
    "version": 3
   },
   "file_extension": ".py",
   "mimetype": "text/x-python",
   "name": "python",
   "nbconvert_exporter": "python",
   "pygments_lexer": "ipython3",
   "version": "3.9.12"
  }
 },
 "nbformat": 4,
 "nbformat_minor": 5
}
